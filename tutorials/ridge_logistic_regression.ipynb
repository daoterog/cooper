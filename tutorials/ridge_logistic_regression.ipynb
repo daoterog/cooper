{
 "cells": [
  {
   "cell_type": "markdown",
   "metadata": {},
   "source": [
    "### Logistic Regression with L2 Regulatization\n",
    "\n",
    "We know that the Logistic Regression can be regarded as a no-hidden-layer neural network with sigmoid a sigmoid activation function in it's output. In simple terms, it can be explained as applying a transformation to the output of a linear regression.\n",
    "\n",
    "Mathematically, this the following:\n",
    "\n",
    "$$\n",
    "\\begin{align}\n",
    "\\hat{y} = \\sigma(XW + b) \\\\\n",
    "\\sigma(Z) = \\frac{1}{1 + e^{-Z}}\n",
    "\\end{align}\n",
    "$$\n",
    "\n",
    "Where $X \\in \\mathbb{R}^{n \\times p}$ is the feature matrix, $y \\in \\mathbb{R}^{n \\times 1}$ is the target vector, $W \\in \\mathbb{R}^{p \\times 1}$ is the weights vector, and $b \\in \\mathbb{R}^{n \\times 1}$ is the bias vector. $Z$ stands for the output of the linear regression and thus, it has the output dimensions of it, $Z \\in \\mathbb{R}^{n \\times 1}$ in this case.\n",
    "\n",
    "Now, we will consider the regular Logistic Regression loss function (binary cross-entropy) for the optimization problem, however, we are going to add a constraint that bounds the $L_2$ norm of the weight vector to be less or equal than certain scalar k. Formally, this is as it follows:\n",
    "\n",
    "$$\n",
    "\\begin{align*}\n",
    "\\underset{W, b}{min} \\quad - \\sum^{n}_{i=1} y_i\\log{(\\hat{y})} + (1 - y_i)\\log{(1 - \\hat{y})} \\\\\n",
    "s.t. \\quad W^TW \\leq k\n",
    "\\end{align*}\n",
    "$$\n",
    "\n",
    "Then, the Lagrangian formulation of the problem will be the following:\n",
    "\n",
    "$$\n",
    "\\underset{W, b}{min}\\, \\underset{\\lambda \\geq 0}{max} \\quad L(W, b, \\lambda) = BCE(y, \\hat{y}) + \\lambda(W^tW - k)\n",
    "$$\n",
    "\n",
    "Where we exchanged the commonly used $L$ notation for the loss in order to maintain our function notation clean."
   ]
  },
  {
   "cell_type": "markdown",
   "metadata": {},
   "source": [
    "### Imports"
   ]
  },
  {
   "cell_type": "code",
   "execution_count": 48,
   "metadata": {},
   "outputs": [
    {
     "name": "stderr",
     "output_type": "stream",
     "text": [
      "\u001b[34m\u001b[1mwandb\u001b[0m: Currently logged in as: \u001b[33mdoterog\u001b[0m. Use \u001b[1m`wandb login --relogin`\u001b[0m to force relogin\n"
     ]
    },
    {
     "data": {
      "text/plain": [
       "True"
      ]
     },
     "execution_count": 48,
     "metadata": {},
     "output_type": "execute_result"
    }
   ],
   "source": [
    "import random\n",
    "import typing as t\n",
    "\n",
    "import wandb\n",
    "import torch\n",
    "import numpy as np\n",
    "import matplotlib.pyplot as plt\n",
    "\n",
    "from collections import OrderedDict\n",
    "from torch.nn import Module, Parameter\n",
    "from torch.utils.data import TensorDataset, Subset, DataLoader\n",
    "\n",
    "from copy import deepcopy\n",
    "from torch.utils.data import random_split\n",
    "from sklearn.datasets import load_breast_cancer\n",
    "\n",
    "# Ensure Reproducibility\n",
    "random.seed(777)\n",
    "np.random.seed(777)\n",
    "torch.manual_seed(777)\n",
    "torch.backends.cudnn.deterministic = True\n",
    "\n",
    "# Wandb Login\n",
    "wandb.login()"
   ]
  },
  {
   "cell_type": "code",
   "execution_count": 2,
   "metadata": {},
   "outputs": [],
   "source": [
    "import cooper"
   ]
  },
  {
   "cell_type": "markdown",
   "metadata": {},
   "source": [
    "### Auxiliary Functions"
   ]
  },
  {
   "cell_type": "code",
   "execution_count": 56,
   "metadata": {},
   "outputs": [],
   "source": [
    "def load_breast_cancer_data() -> TensorDataset:\n",
    "\n",
    "    \"\"\"Load the breast cancer dataset and return it as a torch tensor.\n",
    "\n",
    "    Returns:\n",
    "        TensorDataset: Breast cancer dataset.\"\"\"\n",
    "\n",
    "    breast_cancer = load_breast_cancer()\n",
    "\n",
    "    X = torch.tensor(breast_cancer.data, dtype=torch.float32)\n",
    "    y = torch.tensor(breast_cancer.target, dtype=torch.float32)\n",
    "\n",
    "    return TensorDataset(X, y)\n",
    "\n",
    "\n",
    "def split_data(dataset: torch.Tensor, ratio: float) -> t.Tuple[Subset, Subset, Subset]:\n",
    "\n",
    "    \"\"\"Split the data into training, validation, and test data.\n",
    "\n",
    "    Args:\n",
    "        data (torch.Tensor): The data to split.\n",
    "        ratio (float): The ratio of the data to use for training, validation, and test.\n",
    "\n",
    "    Returns:\n",
    "        Tuple[torch.Tensor, torch.Tensor, torch.Tensor]: The training, validation, and test data.\"\"\"\n",
    "\n",
    "    n_samples = len(dataset)\n",
    "    train_samples = int(np.ceil(n_samples * ratio))\n",
    "    val_samples = int(np.ceil((n_samples - train_samples) * 0.5))\n",
    "    test_samples = n_samples - train_samples - val_samples\n",
    "\n",
    "    return random_split(dataset, [train_samples, val_samples, test_samples])\n",
    "\n",
    "\n",
    "def set_optimizers(\n",
    "    cmp: cooper.CMPState,\n",
    "    params: t.List[torch.nn.Parameter],\n",
    "    primal_lr: float,\n",
    "    dual_lr: float,\n",
    ") -> t.Tuple[cooper.LagrangianFormulation, cooper.ConstrainedOptimizer]:\n",
    "\n",
    "    \"\"\"Set the optimizers for the model.\n",
    "\n",
    "    Args:\n",
    "        cmp (cooper.CMPState): The CMP state.\n",
    "        params (t.List[torch.nn.Parameter]): The parameters of the model.\n",
    "        primal_lr (float): The learning rate for the primal optimizer.\n",
    "        dual_lr (float): The learning rate for the dual optimizer.\n",
    "\n",
    "    Returns:\n",
    "        t.Tuple[cooper.LagrangianFormulation, cooper.ConstrainedOptimizer]: The lagrangian\n",
    "            formulation and the constrained optimizer.\"\"\"\n",
    "\n",
    "    formulation = cooper.LagrangianFormulation(cmp)\n",
    "\n",
    "    primal_optimizer = torch.optim.SGD(params, lr=primal_lr, momentum=0.7)\n",
    "    dual_optimizer = cooper.optim.partial_optimizer(torch.optim.SGD, lr=dual_lr, momentum=0.7)\n",
    "\n",
    "    coop = cooper.ConstrainedOptimizer(\n",
    "        formulation=formulation,\n",
    "        primal_optimizer=primal_optimizer,\n",
    "        dual_optimizer=dual_optimizer,\n",
    "    )\n",
    "\n",
    "    return formulation, coop\n",
    "\n",
    "\n",
    "def train_model(\n",
    "    model: torch.nn.Module,\n",
    "    is_constrained: bool,\n",
    "    data_loader: DataLoader,\n",
    "    optimizer: t.Union[cooper.ConstrainedOptimizer, torch.optim.Optimizer],\n",
    "    num_epochs: int,\n",
    "    criterion: torch.nn.modules.loss._Loss = None,\n",
    "    cmp: cooper.CMPState = None,\n",
    "    formulation: cooper.LagrangianFormulation = None,\n",
    "    k: float = None,\n",
    ") -> t.Tuple[torch.nn.Module, OrderedDict]:\n",
    "\n",
    "    \"\"\"Trains a model using the data_loader and the formulation, cmp, and coop objects for the\n",
    "    optimization.\n",
    "\n",
    "    Args:\n",
    "        model (torch.nn.Module): The model to train.\n",
    "        is_constrained (bool): Whether the model is constrained or not.\n",
    "        data_loader (DataLoader): The data loader to use.\n",
    "        optimizer (t.Union[cooper.ConstrainedOptimizer, torch.optim.Optimizer]): The optimizer to\n",
    "            use.\n",
    "        num_epochs (int): The number of epochs to train for.\n",
    "        criterion (torch.nn.modules.loss._Loss): The loss function to use.\n",
    "        cmp (cooper.CMPState): The CMP state to use.\n",
    "        formulation (cooper.LagrangianFormulation): The formulation to use.\n",
    "        k (float): The slack term of the inequality defects.\n",
    "\n",
    "    Returns:\n",
    "        torch.nn.Module: The trained model.\"\"\"\n",
    "\n",
    "    state_history = OrderedDict()\n",
    "\n",
    "    iter_num = 0\n",
    "    for epoch in range(num_epochs):\n",
    "        for inputs, targets in data_loader:\n",
    "\n",
    "            # Clear gradients w.r.t. parameters\n",
    "            optimizer.zero_grad()\n",
    "\n",
    "            # Backward\n",
    "            if is_constrained:\n",
    "                lagrangian = formulation.composite_objective(cmp.closure, model, inputs, targets, k)\n",
    "                formulation.custom_backward(lagrangian)\n",
    "            else:\n",
    "                outputs = model(inputs)\n",
    "                loss = criterion(outputs, targets)\n",
    "                loss.backward()\n",
    "\n",
    "            # Update parameters\n",
    "            if is_constrained:\n",
    "                optimizer.step(cmp.closure, model, inputs, targets, k)\n",
    "            else:\n",
    "                optimizer.step()\n",
    "\n",
    "            if iter_num % 5 == 0:\n",
    "                if is_constrained:\n",
    "                    state_history[iter_num] = {\n",
    "                        'cmp': cmp.state,\n",
    "                        'dual': deepcopy(formulation.state()),\n",
    "                    }\n",
    "                else:\n",
    "                    state_history[iter_num] = {\n",
    "                        'loss': loss.item(),\n",
    "                    }\n",
    "\n",
    "            iter_num += 1\n",
    "\n",
    "    return model, state_history\n",
    "\n",
    "\n",
    "def plot_constrained_state_history(state_history: OrderedDict) -> None:\n",
    "\n",
    "    \"\"\"Plot the state history.\n",
    "\n",
    "    Args:\n",
    "        state_history (OrderedDict): The state history to plot.\n",
    "    \"\"\"\n",
    "\n",
    "    # Unpack values\n",
    "    iters, loss_history = zip(\n",
    "        *[(iter_num, _[\"cmp\"].loss.item()) for iter_num, _ in state_history.items()]\n",
    "    )\n",
    "\n",
    "    mult_history = np.stack(\n",
    "        [_[\"dual\"][0].data.numpy() for _ in state_history.values()]\n",
    "    )\n",
    "\n",
    "    defect_history = np.stack(\n",
    "        [_[\"cmp\"].ineq_defect.data.numpy() for _ in state_history.values()]\n",
    "    )\n",
    "\n",
    "    # Plot\n",
    "    _, (ax0, ax1, ax2) = plt.subplots(nrows=1, ncols=3, sharex=True, figsize=(15, 3))\n",
    "\n",
    "    ax0.plot(iters, mult_history)\n",
    "    ax0.set_title(\"Multipliers\")\n",
    "\n",
    "    ax1.plot(iters, mult_history, alpha=0.6)\n",
    "    ax1.axhline(0.0, c=\"gray\", alpha=0.2)\n",
    "    ax1.set_title(\"Defects\")\n",
    "\n",
    "    ax2.plot(iters, loss_history)\n",
    "    ax2.set_title(\"Objective\")\n",
    "\n",
    "    for ax in [ax0, ax1, ax2]:\n",
    "        ax.set_xlabel(\"Iteration\")\n",
    "        ax.set_ylabel(\"Value\")\n",
    "\n",
    "    [_.semilogx() for _ in (ax0, ax1, ax2)]\n",
    "    plt.show()\n",
    "\n",
    "def plot_unconstrained_state_history(state_history: OrderedDict) -> None:\n",
    "\n",
    "    \"\"\"Plots loss of unconstrained model.\n",
    "\n",
    "    Args:\n",
    "        state_history (OrderedDict):\n",
    "    \"\"\"\n",
    "\n",
    "    iters, loss_history = zip(\n",
    "        *[(iter_num, _[\"loss\"]) for iter_num, _ in state_history.items()]\n",
    "    )\n",
    "\n",
    "    plt.figure(figsize=(5, 3))\n",
    "    plt.plot(iters, loss_history)\n",
    "    plt.title(\"Unconstrained Model Objective\")\n",
    "    plt.xlabel(\"Iteration\")\n",
    "    plt.ylabel(\"Value\")\n",
    "    plt.semilogx()\n",
    "    plt.show()\n",
    "\n",
    "\n",
    "def evaluate_model(model: torch.nn.Module, data_loader: DataLoader, mode: str) -> float:\n",
    "\n",
    "    \"\"\"Evaluate the model on the data.\n",
    "\n",
    "    Args:\n",
    "        model (torch.nn.Module): The model to evaluate.\n",
    "        data_loader (DataLoader): The data loader to use.\n",
    "        mode (str): The mode to use. Valid modes are \"train\", \"val\", and \"test\".\n",
    "\n",
    "    Returns:\n",
    "        float: The accuracy of the model on the data.\n",
    "    \"\"\"\n",
    "\n",
    "    model.eval()\n",
    "\n",
    "    with torch.no_grad():\n",
    "        total, correct = 0, 0\n",
    "        for inputs, targets in data_loader:\n",
    "            pred_logits = model.forward(inputs)\n",
    "            predicted = pred_logits > 0.5\n",
    "            total += targets.size(0)\n",
    "            correct += (predicted == targets).sum().item()\n",
    "\n",
    "    wandb.log({mode + \"_accuracy\": correct / total})\n",
    "    return correct * 100 / total"
   ]
  },
  {
   "cell_type": "markdown",
   "metadata": {},
   "source": [
    "### Model and Optimization Problem"
   ]
  },
  {
   "cell_type": "code",
   "execution_count": 4,
   "metadata": {},
   "outputs": [],
   "source": [
    "class LogisticRegression(torch.nn.Module):\n",
    "\n",
    "    def __init__(self, input_size: int, output_size: int) -> None:\n",
    "        \"\"\"Initialize the model.\n",
    "\n",
    "        Args:\n",
    "            input_size (int): The size of the input.\n",
    "            output_size (int): The size of the output.\n",
    "        \"\"\"\n",
    "        super(LogisticRegression, self).__init__()\n",
    "        self.linear = torch.nn.Linear(input_size, output_size)\n",
    "\n",
    "    def forward(self, x: torch.Tensor) -> torch.Tensor:\n",
    "        \"\"\"Forward pass of the model.\n",
    "\n",
    "        Args:\n",
    "            x (torch.Tensor): The input data.\n",
    "\n",
    "        Returns:\n",
    "            torch.Tensor: The output of the model.\n",
    "        \"\"\"\n",
    "        return torch.sigmoid(self.linear(x)).squeeze()\n",
    "\n",
    "class NormConstrainedLogisticRegression(cooper.ConstrainedMinimizationProblem):\n",
    "    def __init__(self):\n",
    "        self.criterion = torch.nn.BCELoss()\n",
    "        super().__init__(is_constrained=True)\n",
    "\n",
    "    def closure(\n",
    "        self,model: torch.nn.Module,\n",
    "        inputs: torch.Tensor,\n",
    "        targets: torch.Tensor,\n",
    "        k: float,\n",
    "    ) -> cooper.CMPState:\n",
    "        \"\"\"Compute the loss.\n",
    "\n",
    "        Args:\n",
    "            model (torch.nn.Module): The model to compute the loss for.\n",
    "            inputs (torch.Tensor): The input data.\n",
    "            targets (torch.Tensor): The target data.\n",
    "            k (float): The slack term of the inequality defects.\n",
    "\n",
    "        Returns:\n",
    "            cooper.CMPState: The state of the CMP.\n",
    "        \"\"\"\n",
    "\n",
    "        pred_logits = model.forward(inputs).squeeze()\n",
    "        loss = self.criterion(pred_logits, targets)\n",
    "\n",
    "        ineq_defect = torch.sum(torch.pow(model.linear.weight, 2)) - k\n",
    "        return cooper.CMPState(loss=loss, ineq_defect=ineq_defect)"
   ]
  },
  {
   "cell_type": "markdown",
   "metadata": {},
   "source": [
    "### Step 1: Load Data"
   ]
  },
  {
   "cell_type": "code",
   "execution_count": 5,
   "metadata": {},
   "outputs": [
    {
     "name": "stdout",
     "output_type": "stream",
     "text": [
      "Number of observations: 569\n",
      "Number of features: 30\n"
     ]
    }
   ],
   "source": [
    "dataset = load_breast_cancer_data()\n",
    "\n",
    "print(f'Number of observations: {len(dataset)}')\n",
    "print(f'Number of features: {dataset[0][0].shape[0]}')"
   ]
  },
  {
   "cell_type": "code",
   "execution_count": 6,
   "metadata": {},
   "outputs": [
    {
     "name": "stdout",
     "output_type": "stream",
     "text": [
      "Nuumber of training samples: 342\n",
      "Number of validation samples: 114\n",
      "Number of testing samples: 113\n"
     ]
    }
   ],
   "source": [
    "train_data, val_data, test_data = split_data(dataset, 0.6)\n",
    "\n",
    "print(f'Nuumber of training samples: {len(train_data)}')\n",
    "print(f'Number of validation samples: {len(val_data)}')\n",
    "print(f'Number of testing samples: {len(test_data)}')"
   ]
  },
  {
   "cell_type": "markdown",
   "metadata": {},
   "source": [
    "### Step 2: Make Data Iterable"
   ]
  },
  {
   "cell_type": "code",
   "execution_count": 7,
   "metadata": {},
   "outputs": [],
   "source": [
    "batch_size = 32\n",
    "n_iters = 1000"
   ]
  },
  {
   "cell_type": "code",
   "execution_count": 8,
   "metadata": {},
   "outputs": [],
   "source": [
    "train_loader = DataLoader(train_data, batch_size=batch_size, shuffle=True)\n",
    "val_loader = DataLoader(val_data, batch_size=batch_size, shuffle=True)\n",
    "test_loader = DataLoader(test_data, batch_size=batch_size, shuffle=True)"
   ]
  },
  {
   "cell_type": "markdown",
   "metadata": {},
   "source": [
    "### Step 3-5: Build Model, Instantiate Model, Instantiate Loss Class"
   ]
  },
  {
   "cell_type": "code",
   "execution_count": 9,
   "metadata": {},
   "outputs": [],
   "source": [
    "model = LogisticRegression(dataset[0][0].shape[0], 1)\n",
    "cmp = NormConstrainedLogisticRegression()"
   ]
  },
  {
   "cell_type": "markdown",
   "metadata": {},
   "source": [
    "### Step 6: Instantiate Optimizer Class"
   ]
  },
  {
   "cell_type": "code",
   "execution_count": 10,
   "metadata": {},
   "outputs": [],
   "source": [
    "primal_lr = 1e-3\n",
    "dual_lr = 5e-3\n",
    "\n",
    "formulation, coop = set_optimizers(cmp, model.parameters(), primal_lr, dual_lr)"
   ]
  },
  {
   "cell_type": "markdown",
   "metadata": {},
   "source": [
    "### Step 7-8: Train and Evaluate Model"
   ]
  },
  {
   "cell_type": "code",
   "execution_count": 13,
   "metadata": {},
   "outputs": [],
   "source": [
    "num_epochs = int(n_iters / (len(train_data) / batch_size))"
   ]
  },
  {
   "cell_type": "markdown",
   "metadata": {},
   "source": [
    "#### Unconstrained Model"
   ]
  },
  {
   "cell_type": "code",
   "execution_count": 43,
   "metadata": {},
   "outputs": [
    {
     "data": {
      "image/png": "[encoded data removed]",
      "text/plain": [
       "<Figure size 360x216 with 1 Axes>"
      ]
     },
     "metadata": {
      "needs_background": "light"
     },
     "output_type": "display_data"
    },
    {
     "name": "stdout",
     "output_type": "stream",
     "text": [
      "Train accuracy: 61.98830409356725\n",
      "Validation accuracy: 67.54385964912281\n",
      "Test accuracy: 60.176991150442475\n"
     ]
    }
   ],
   "source": [
    "# Train unconstrained model\n",
    "is_constrained = False\n",
    "optimizer = torch.optim.SGD(model.parameters(), lr=primal_lr)\n",
    "criterion = torch.nn.BCELoss()\n",
    "\n",
    "unc_model = LogisticRegression(dataset[0][0].shape[0], 1)\n",
    "\n",
    "unc_model, unc_state_history = train_model(unc_model, is_constrained, train_loader, optimizer, num_epochs, criterion=criterion)\n",
    "\n",
    "plot_unconstrained_state_history(unc_state_history)\n",
    "\n",
    "unc_train_accuracy = evaluate_model(unc_model, train_loader, 'train')\n",
    "unc_val_accuracy = evaluate_model(unc_model, val_loader, 'val')\n",
    "unc_test_accuracy = evaluate_model(unc_model, test_loader, 'test')\n",
    "\n",
    "print(f'Train accuracy: {unc_train_accuracy}')\n",
    "print(f'Validation accuracy: {unc_val_accuracy}')\n",
    "print(f'Test accuracy: {unc_test_accuracy}')"
   ]
  },
  {
   "cell_type": "code",
   "execution_count": 39,
   "metadata": {},
   "outputs": [
    {
     "data": {
      "image/png": "[encoded data removed]",
      "text/plain": [
       "<Figure size 1080x216 with 3 Axes>"
      ]
     },
     "metadata": {
      "needs_background": "light"
     },
     "output_type": "display_data"
    },
    {
     "name": "stdout",
     "output_type": "stream",
     "text": [
      "Train accuracy: 61.98830409356725\n",
      "Validation accuracy: 67.54385964912281\n",
      "Test accuracy: 60.176991150442475\n"
     ]
    }
   ],
   "source": [
    "# Train unconstrained model\n",
    "is_constrained = True\n",
    "optimizer = coop\n",
    "k = 10\n",
    "\n",
    "model, const_state_history = train_model(model, is_constrained, train_loader, optimizer,\n",
    "                                                num_epochs, cmp=cmp, formulation=formulation, k=k)\n",
    "\n",
    "plot_constrained_state_history(const_state_history)\n",
    "\n",
    "const_train_accuracy = evaluate_model(model, train_loader)\n",
    "const_val_accuracy = evaluate_model(model, val_loader)\n",
    "const_test_accuracy = evaluate_model(model, test_loader)\n",
    "\n",
    "print(f'Train accuracy: {const_train_accuracy}')\n",
    "print(f'Validation accuracy: {const_val_accuracy}')\n",
    "print(f'Test accuracy: {const_test_accuracy}')"
   ]
  },
  {
   "cell_type": "code",
   "execution_count": 57,
   "metadata": {},
   "outputs": [],
   "source": [
    "def preparation(\n",
    "    config: wandb.config,\n",
    ") -> t.Tuple[DataLoader, DataLoader, DataLoader, torch.nn.Module, int]:\n",
    "\n",
    "    \"\"\"Prepares data and instances the model for training.\n",
    "\n",
    "    Args:\n",
    "        train_ratio (float): The ratio of the data to be used for training.\n",
    "        batch_size (int): The batch size to use for training.\n",
    "        n_iters (int): The number of iterations to train for.\n",
    "\n",
    "    Returns:\n",
    "        tuple: A tuple of the train loader, the validation loader, the test loader, the model, and\n",
    "            the number of epochs to train it.\n",
    "    \"\"\"\n",
    "\n",
    "    train_ratio, batch_size, n_iters = config.train_ratio, config.batch_size, config.n_iters\n",
    "\n",
    "    dataset = load_breast_cancer_data()\n",
    "\n",
    "    train_data, val_data, test_data = split_data(dataset, train_ratio)\n",
    "\n",
    "    train_loader = DataLoader(train_data, batch_size=batch_size, shuffle=True)\n",
    "    val_loader = DataLoader(val_data, batch_size=batch_size, shuffle=True)\n",
    "    test_loader = DataLoader(test_data, batch_size=batch_size, shuffle=True)\n",
    "\n",
    "    model = LogisticRegression(dataset[0][0].shape[0], 1)\n",
    "\n",
    "    num_epochs = int(n_iters / (len(train_data) / batch_size))\n",
    "\n",
    "    return train_loader, val_loader, test_loader, model, num_epochs\n",
    "\n",
    "def train(\n",
    "    model: torch.nn.Module,\n",
    "    train_loader: DataLoader,\n",
    "    num_epochs: int,\n",
    "    config: wandb.config,\n",
    ") -> t.Tuple[torch.nn.Module, OrderedDict]:\n",
    "\n",
    "    \"\"\"Train the model.\n",
    "\n",
    "    Args:\n",
    "        model (torch.nn.Module): The model to train.\n",
    "        train_loader (DataLoader): The data loader to use for training.\n",
    "        num_epochs (int): The number of epochs to train for.\n",
    "        is_constrained (bool): Whether to train the model constrained or unconstrained.\n",
    "        unconst_lr (float, optional): The learning rate to use for the unconstrained model.\n",
    "        primal_lr (float, optional): The learning rate to use for the primal variable.\n",
    "        dual_lr (float, optional): The learning rate to use for the dual variable.\n",
    "        k (int, optional): The slack term of the inequality defects.\n",
    "\n",
    "    Returns:\n",
    "        tuple: A tuple of the trained model and the state history.\"\"\"\n",
    "\n",
    "    is_constrained = config.is_constrained\n",
    "    criterion = torch.nn.BCELoss\n",
    "    wandb.watch(model, criterion, log=\"all\", log_freq=10)\n",
    "\n",
    "    if is_constrained:\n",
    "        cmp = NormConstrainedLogisticRegression()\n",
    "        formulation, optimizer = set_optimizers(cmp,\n",
    "                                                model.parameters(),\n",
    "                                                config.primal_lr,\n",
    "                                                config.dual_lr)\n",
    "        model, state_history = train_model(model,\n",
    "                                            is_constrained,\n",
    "                                            train_loader,\n",
    "                                            optimizer,\n",
    "                                            num_epochs,\n",
    "                                            cmp=cmp,\n",
    "                                            formulation=formulation,\n",
    "                                            k=config.k)\n",
    "\n",
    "    else:\n",
    "        optimizer = torch.optim.SGD(model.parameters(), lr=config.unconst_lr)\n",
    "\n",
    "        model, state_history = train_model(model,\n",
    "                                        is_constrained,\n",
    "                                        train_loader,\n",
    "                                        optimizer,\n",
    "                                        num_epochs,\n",
    "                                        criterion=criterion)\n",
    "\n",
    "    return model, state_history\n",
    "\n",
    "def experimentation_pipeline(hyperparameters: dict) -> torch.nn.Module:\n",
    "\n",
    "    \"\"\"Experimentation pipeline.\n",
    "\n",
    "    Args:\n",
    "        is_constrained (bool): Whether to train a constrained model.\n",
    "        unconst_lr (float, optional): The learning rate to use for the unconstrained model.\n",
    "        primal_lr (float, optional): The learning rate of the primal optimizer.\n",
    "        dual_lr (float, optional): The learning rate of the dual optimizer.\n",
    "        k (float, optional): The slack term of the inequality defects.\n",
    "        batch_size (int, optional): The batch size.\n",
    "        n_iters (int, optional): The number of iterations.\n",
    "        train_ratio (float, optional): The ratio of the training set.\n",
    "\n",
    "    Returns:\n",
    "        torch.nn.Module: The trained model.\"\"\"\n",
    "\n",
    "    with wandb.init(project=\"first_tests\", config=hyperparameters):\n",
    "\n",
    "        config = wandb.config\n",
    "\n",
    "        train_loader, val_loader, test_loader, model, num_epochs = preparation(config)\n",
    "\n",
    "        model, state_history = train(model, train_loader, num_epochs, config)\n",
    "\n",
    "        train_accuracy = evaluate_model(model, train_loader)\n",
    "        val_accuracy = evaluate_model(model, val_loader)\n",
    "        test_accuracy = evaluate_model(model, test_loader)\n",
    "\n",
    "    return model\n"
   ]
  },
  {
   "cell_type": "code",
   "execution_count": 53,
   "metadata": {},
   "outputs": [
    {
     "ename": "TypeError",
     "evalue": "'<' not supported between instances of 'NoneType' and 'float'",
     "output_type": "error",
     "traceback": [
      "\u001b[1;31m---------------------------------------------------------------------------\u001b[0m",
      "\u001b[1;31mTypeError\u001b[0m                                 Traceback (most recent call last)",
      "\u001b[1;32m~\\AppData\\Local\\Temp\\ipykernel_18144\\2882348863.py\u001b[0m in \u001b[0;36m<module>\u001b[1;34m\u001b[0m\n\u001b[0;32m      9\u001b[0m )\n\u001b[0;32m     10\u001b[0m \u001b[1;33m\u001b[0m\u001b[0m\n\u001b[1;32m---> 11\u001b[1;33m \u001b[0mmodel\u001b[0m \u001b[1;33m=\u001b[0m \u001b[0mexperimentation_pipeline\u001b[0m\u001b[1;33m(\u001b[0m\u001b[1;33m**\u001b[0m\u001b[0mconfig\u001b[0m\u001b[1;33m)\u001b[0m\u001b[1;33m\u001b[0m\u001b[1;33m\u001b[0m\u001b[0m\n\u001b[0m",
      "\u001b[1;32m~\\AppData\\Local\\Temp\\ipykernel_18144\\999999225.py\u001b[0m in \u001b[0;36mexperimentation_pipeline\u001b[1;34m(is_constrained, primal_lr, dual_lr, k, batch_size, n_iters, train_ratio)\u001b[0m\n\u001b[0;32m    116\u001b[0m                                 \u001b[0mprimal_lr\u001b[0m\u001b[1;33m=\u001b[0m\u001b[0mprimal_lr\u001b[0m\u001b[1;33m,\u001b[0m\u001b[1;33m\u001b[0m\u001b[1;33m\u001b[0m\u001b[0m\n\u001b[0;32m    117\u001b[0m                                 \u001b[0mdual_lr\u001b[0m\u001b[1;33m=\u001b[0m\u001b[0mdual_lr\u001b[0m\u001b[1;33m,\u001b[0m\u001b[1;33m\u001b[0m\u001b[1;33m\u001b[0m\u001b[0m\n\u001b[1;32m--> 118\u001b[1;33m                                 k=k)\n\u001b[0m\u001b[0;32m    119\u001b[0m \u001b[1;33m\u001b[0m\u001b[0m\n\u001b[0;32m    120\u001b[0m     \u001b[0mtrain_accuracy\u001b[0m \u001b[1;33m=\u001b[0m \u001b[0mevaluate_model\u001b[0m\u001b[1;33m(\u001b[0m\u001b[0mmodel\u001b[0m\u001b[1;33m,\u001b[0m \u001b[0mtrain_loader\u001b[0m\u001b[1;33m)\u001b[0m\u001b[1;33m\u001b[0m\u001b[1;33m\u001b[0m\u001b[0m\n",
      "\u001b[1;32m~\\AppData\\Local\\Temp\\ipykernel_18144\\999999225.py\u001b[0m in \u001b[0;36mtrain\u001b[1;34m(is_constrained, model, train_loader, num_epochs, unconst_lr, primal_lr, dual_lr, k)\u001b[0m\n\u001b[0;32m     70\u001b[0m \u001b[1;33m\u001b[0m\u001b[0m\n\u001b[0;32m     71\u001b[0m     \u001b[1;32melse\u001b[0m\u001b[1;33m:\u001b[0m\u001b[1;33m\u001b[0m\u001b[1;33m\u001b[0m\u001b[0m\n\u001b[1;32m---> 72\u001b[1;33m         \u001b[0moptimizer\u001b[0m \u001b[1;33m=\u001b[0m \u001b[0mtorch\u001b[0m\u001b[1;33m.\u001b[0m\u001b[0moptim\u001b[0m\u001b[1;33m.\u001b[0m\u001b[0mSGD\u001b[0m\u001b[1;33m(\u001b[0m\u001b[0mmodel\u001b[0m\u001b[1;33m.\u001b[0m\u001b[0mparameters\u001b[0m\u001b[1;33m(\u001b[0m\u001b[1;33m)\u001b[0m\u001b[1;33m,\u001b[0m \u001b[0mlr\u001b[0m\u001b[1;33m=\u001b[0m\u001b[0munconst_lr\u001b[0m\u001b[1;33m)\u001b[0m\u001b[1;33m\u001b[0m\u001b[1;33m\u001b[0m\u001b[0m\n\u001b[0m\u001b[0;32m     73\u001b[0m         \u001b[0mcriterion\u001b[0m \u001b[1;33m=\u001b[0m \u001b[0mtorch\u001b[0m\u001b[1;33m.\u001b[0m\u001b[0mnn\u001b[0m\u001b[1;33m.\u001b[0m\u001b[0mBCELoss\u001b[0m\u001b[1;33m\u001b[0m\u001b[1;33m\u001b[0m\u001b[0m\n\u001b[0;32m     74\u001b[0m \u001b[1;33m\u001b[0m\u001b[0m\n",
      "\u001b[1;32mc:\\Users\\danie\\miniconda3\\envs\\cooper_toy\\lib\\site-packages\\torch\\optim\\sgd.py\u001b[0m in \u001b[0;36m__init__\u001b[1;34m(self, params, lr, momentum, dampening, weight_decay, nesterov, maximize, foreach)\u001b[0m\n\u001b[0;32m     91\u001b[0m     def __init__(self, params, lr=required, momentum=0, dampening=0,\n\u001b[0;32m     92\u001b[0m                  weight_decay=0, nesterov=False, *, maximize=False, foreach: Optional[bool] = None):\n\u001b[1;32m---> 93\u001b[1;33m         \u001b[1;32mif\u001b[0m \u001b[0mlr\u001b[0m \u001b[1;32mis\u001b[0m \u001b[1;32mnot\u001b[0m \u001b[0mrequired\u001b[0m \u001b[1;32mand\u001b[0m \u001b[0mlr\u001b[0m \u001b[1;33m<\u001b[0m \u001b[1;36m0.0\u001b[0m\u001b[1;33m:\u001b[0m\u001b[1;33m\u001b[0m\u001b[1;33m\u001b[0m\u001b[0m\n\u001b[0m\u001b[0;32m     94\u001b[0m             \u001b[1;32mraise\u001b[0m \u001b[0mValueError\u001b[0m\u001b[1;33m(\u001b[0m\u001b[1;34m\"Invalid learning rate: {}\"\u001b[0m\u001b[1;33m.\u001b[0m\u001b[0mformat\u001b[0m\u001b[1;33m(\u001b[0m\u001b[0mlr\u001b[0m\u001b[1;33m)\u001b[0m\u001b[1;33m)\u001b[0m\u001b[1;33m\u001b[0m\u001b[1;33m\u001b[0m\u001b[0m\n\u001b[0;32m     95\u001b[0m         \u001b[1;32mif\u001b[0m \u001b[0mmomentum\u001b[0m \u001b[1;33m<\u001b[0m \u001b[1;36m0.0\u001b[0m\u001b[1;33m:\u001b[0m\u001b[1;33m\u001b[0m\u001b[1;33m\u001b[0m\u001b[0m\n",
      "\u001b[1;31mTypeError\u001b[0m: '<' not supported between instances of 'NoneType' and 'float'"
     ]
    }
   ],
   "source": [
    "config = dict(\n",
    "    is_constrained=False,\n",
    "    primal_lr = 1e-3,\n",
    "    dual_lr = 5e-3,\n",
    "    k = 10,\n",
    "    batch_size = 32,\n",
    "    n_iters = 1000,\n",
    "    train_ratio = 0.6,\n",
    ")\n",
    "\n",
    "model = experimentation_pipeline(config)"
   ]
  },
  {
   "cell_type": "code",
   "execution_count": null,
   "metadata": {},
   "outputs": [],
   "source": []
  }
 ],
 "metadata": {
  "kernelspec": {
   "display_name": "Python 3.7.13 ('cooper_toy')",
   "language": "python",
   "name": "python3"
  },
  "language_info": {
   "codemirror_mode": {
    "name": "ipython",
    "version": 3
   },
   "file_extension": ".py",
   "mimetype": "text/x-python",
   "name": "python",
   "nbconvert_exporter": "python",
   "pygments_lexer": "ipython3",
   "version": "3.7.13"
  },
  "orig_nbformat": 4,
  "vscode": {
   "interpreter": {
    "hash": "aeb4812ab59855f52a3e65886350d5e7a32614426eb446ce24e1bf64cb4acb6d"
   }
  }
 },
 "nbformat": 4,
 "nbformat_minor": 2
}
