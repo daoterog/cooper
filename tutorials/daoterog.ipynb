{
 "cells": [
  {
   "cell_type": "markdown",
   "metadata": {},
   "source": [
    "# Imports"
   ]
  },
  {
   "cell_type": "code",
   "execution_count": 18,
   "metadata": {},
   "outputs": [],
   "source": [
    "import os\n",
    "import copy\n",
    "\n",
    "import numpy as np\n",
    "import matplotlib.pyplot as plt\n",
    "\n",
    "import torch\n",
    "\n",
    "import cooper"
   ]
  },
  {
   "cell_type": "markdown",
   "metadata": {},
   "source": [
    "# Least Squares Problem"
   ]
  },
  {
   "cell_type": "code",
   "execution_count": 92,
   "metadata": {},
   "outputs": [
    {
     "name": "stdout",
     "output_type": "stream",
     "text": [
      "CMPState(loss=tensor([[0.1157]], grad_fn=<MmBackward0>), ineq_defect=None, eq_defect=tensor([[2.3842e-07]], grad_fn=<SubBackward0>), proxy_ineq_defect=None, proxy_eq_defect=None, misc=None)\n"
     ]
    },
    {
     "data": {
      "image/png": "[encoded data removed]",
      "text/plain": [
       "<Figure size 1080x216 with 3 Axes>"
      ]
     },
     "metadata": {
      "needs_background": "light"
     },
     "output_type": "display_data"
    }
   ],
   "source": [
    "class LeastSquares(cooper.ConstrainedMinimizationProblem):\n",
    "    def __init__(self, A, b):\n",
    "        self.A = A\n",
    "        self.b = b\n",
    "        super().__init__(is_constrained=True)\n",
    "\n",
    "    def closure(self, x):\n",
    "\n",
    "        loss = torch.matmul(torch.t(x), x)\n",
    "\n",
    "        eq_defect = torch.matmul(self.A, x) - self.b\n",
    "\n",
    "        return cooper.CMPState(\n",
    "            loss=loss, eq_defect=eq_defect\n",
    "        )\n",
    "\n",
    "n_vars = 20\n",
    "n_eq = 1\n",
    "\n",
    "A = torch.rand(size=(n_eq,n_vars))\n",
    "b = torch.rand(size=(n_eq,1))\n",
    "\n",
    "cmp = LeastSquares(A, b)\n",
    "formulation = cooper.LagrangianFormulation(cmp)\n",
    "\n",
    "x = torch.nn.Parameter(torch.rand(n_vars, 1))\n",
    "\n",
    "primal_optimizer = torch.optim.SGD([x], lr=3e-2, momentum=0.7)\n",
    "dual_optimizer = cooper.optim.partial_optimizer(\n",
    "    torch.optim.SGD, lr=9e-3, momentum=0.7\n",
    "    )\n",
    "\n",
    "coop = cooper.ConstrainedOptimizer(\n",
    "    formulation=formulation,\n",
    "    primal_optimizer=primal_optimizer,\n",
    "    dual_optimizer=dual_optimizer,\n",
    ")\n",
    "\n",
    "state_history = cooper.StateLogger(save_metrics=[\"loss\", \"eq_defect\", \"eq_multipliers\"])\n",
    "\n",
    "for iter_num in range(5000):\n",
    "\n",
    "    coop.zero_grad()\n",
    "    lagrangian = formulation.composite_objective(cmp.closure, x)\n",
    "    formulation.custom_backward(lagrangian)\n",
    "    coop.step(cmp.closure, x)\n",
    "\n",
    "    # Store optimization metrics at each step\n",
    "    partial_dict = {\"params\": copy.deepcopy(x.data)}\n",
    "    state_history.store_metrics(formulation, iter_num, partial_dict)\n",
    "\n",
    "print(cmp.state)\n",
    "\n",
    "all_metrics = state_history.unpack_stored_metrics()\n",
    "\n",
    "fig, (ax0, ax1, ax2) = plt.subplots(nrows=1, ncols=3, sharex=True, figsize=(15, 3))\n",
    "\n",
    "ax0.plot(all_metrics[\"iters\"], np.stack(all_metrics[\"eq_multipliers\"]).squeeze())\n",
    "ax0.set_title(\"Multipliers\")\n",
    "\n",
    "ax1.plot(all_metrics[\"iters\"], (all_metrics[\"eq_defect\"]), alpha=0.6)\n",
    "ax1.axhline(0.0, c=\"gray\", alpha=0.2)\n",
    "ax1.set_title(\"Defects\")\n",
    "\n",
    "ax2.plot(all_metrics[\"iters\"], all_metrics[\"loss\"])\n",
    "ax2.set_title(\"Objective\")\n",
    "\n",
    "[_.semilogx() for _ in (ax0, ax1, ax2)]\n",
    "plt.show()"
   ]
  },
  {
   "cell_type": "markdown",
   "metadata": {},
   "source": [
    "### Maximum entropy\n",
    "\n",
    "This example is inspired by [this StackExchange question](https://datascience.stackexchange.com/questions/107366/how-do-you-solve-strictly-constrained-optimization-problems-with-pytorch).\n",
    "\n",
    ">I am trying to solve the following problem using pytorch: given a six sided die whose\n",
    ">average roll is known to be 4.5, what is the maximum entropy distribution for the faces?"
   ]
  },
  {
   "cell_type": "code",
   "execution_count": 77,
   "metadata": {},
   "outputs": [],
   "source": [
    "class MaximumEntropy(cooper.ConstrainedMinimizationProblem):\n",
    "    def __init__(self, mean_constraint):\n",
    "        self.mean_constraint = mean_constraint\n",
    "        super().__init__(is_constrained=True)\n",
    "\n",
    "    def closure(self, probs):\n",
    "\n",
    "        # Verify domain of definition of the functions\n",
    "        assert torch.all(probs >= 0)\n",
    "\n",
    "        # Negative signed removed since we want to *maximize* the entropy\n",
    "        entropy = torch.sum(probs * torch.log(probs))\n",
    "\n",
    "        # Entries of p >= 0 (equiv. -p <= 0)\n",
    "        ineq_defect = -probs\n",
    "\n",
    "        # Equality constraints for proper normalization and mean constraint\n",
    "        mean = torch.sum(torch.tensor(range(1, len(probs) + 1)) * probs)\n",
    "        eq_defect = torch.stack([torch.sum(probs) - 1, mean - self.mean_constraint])\n",
    "\n",
    "        return cooper.CMPState(\n",
    "            loss=entropy, eq_defect=eq_defect, ineq_defect=ineq_defect\n",
    "        )"
   ]
  },
  {
   "cell_type": "code",
   "execution_count": null,
   "metadata": {},
   "outputs": [],
   "source": []
  },
  {
   "cell_type": "code",
   "execution_count": 78,
   "metadata": {},
   "outputs": [
    {
     "name": "stdout",
     "output_type": "stream",
     "text": [
      "Parameter containing:\n",
      "tensor([0.0236, 0.9385, 0.2725, 0.2382, 0.0934, 0.6713], requires_grad=True)\n"
     ]
    }
   ],
   "source": [
    "cmp = MaximumEntropy(mean_constraint=4.5)\n",
    "formulation = cooper.LagrangianFormulation(cmp)\n",
    "\n",
    "probs = torch.nn.Parameter(torch.rand(6))\n",
    "print(probs)\n",
    "primal_optimizer = cooper.optim.ExtraSGD([probs], lr=3e-2, momentum=0.7)\n",
    "dual_optimizer = cooper.optim.partial_optimizer(\n",
    "    cooper.optim.ExtraSGD, lr=9e-3, momentum=0.7\n",
    "    )\n",
    "\n",
    "coop = cooper.ConstrainedOptimizer(\n",
    "    formulation=formulation,\n",
    "    primal_optimizer=primal_optimizer,\n",
    "    dual_optimizer=dual_optimizer,\n",
    ")"
   ]
  },
  {
   "cell_type": "code",
   "execution_count": 66,
   "metadata": {},
   "outputs": [
    {
     "ename": "AssertionError",
     "evalue": "",
     "output_type": "error",
     "traceback": [
      "\u001b[1;31m---------------------------------------------------------------------------\u001b[0m",
      "\u001b[1;31mAssertionError\u001b[0m                            Traceback (most recent call last)",
      "\u001b[1;32m~\\AppData\\Local\\Temp\\ipykernel_23272\\1551643838.py\u001b[0m in \u001b[0;36m<module>\u001b[1;34m\u001b[0m\n\u001b[0;32m      6\u001b[0m     \u001b[0mlagrangian\u001b[0m \u001b[1;33m=\u001b[0m \u001b[0mformulation\u001b[0m\u001b[1;33m.\u001b[0m\u001b[0mcomposite_objective\u001b[0m\u001b[1;33m(\u001b[0m\u001b[0mcmp\u001b[0m\u001b[1;33m.\u001b[0m\u001b[0mclosure\u001b[0m\u001b[1;33m,\u001b[0m \u001b[0mprobs\u001b[0m\u001b[1;33m)\u001b[0m\u001b[1;33m\u001b[0m\u001b[1;33m\u001b[0m\u001b[0m\n\u001b[0;32m      7\u001b[0m     \u001b[0mformulation\u001b[0m\u001b[1;33m.\u001b[0m\u001b[0mcustom_backward\u001b[0m\u001b[1;33m(\u001b[0m\u001b[0mlagrangian\u001b[0m\u001b[1;33m)\u001b[0m\u001b[1;33m\u001b[0m\u001b[1;33m\u001b[0m\u001b[0m\n\u001b[1;32m----> 8\u001b[1;33m     \u001b[0mcoop\u001b[0m\u001b[1;33m.\u001b[0m\u001b[0mstep\u001b[0m\u001b[1;33m(\u001b[0m\u001b[0mcmp\u001b[0m\u001b[1;33m.\u001b[0m\u001b[0mclosure\u001b[0m\u001b[1;33m,\u001b[0m \u001b[0mprobs\u001b[0m\u001b[1;33m)\u001b[0m\u001b[1;33m\u001b[0m\u001b[1;33m\u001b[0m\u001b[0m\n\u001b[0m\u001b[0;32m      9\u001b[0m \u001b[1;33m\u001b[0m\u001b[0m\n\u001b[0;32m     10\u001b[0m     \u001b[1;31m# Store optimization metrics at each step\u001b[0m\u001b[1;33m\u001b[0m\u001b[1;33m\u001b[0m\u001b[1;33m\u001b[0m\u001b[0m\n",
      "\u001b[1;32m~\\Documents\\daniel\\universidad\\9no_semestre\\practica_investigativa\\cooper\\cooper\\constrained_optimizer.py\u001b[0m in \u001b[0;36mstep\u001b[1;34m(self, closure, *closure_args, **closure_kwargs)\u001b[0m\n\u001b[0;32m    221\u001b[0m             \u001b[1;31m# extrapolation step\u001b[0m\u001b[1;33m\u001b[0m\u001b[1;33m\u001b[0m\u001b[1;33m\u001b[0m\u001b[0m\n\u001b[0;32m    222\u001b[0m             lagrangian = self.formulation.composite_objective(\n\u001b[1;32m--> 223\u001b[1;33m                 \u001b[0mclosure\u001b[0m\u001b[1;33m,\u001b[0m \u001b[1;33m*\u001b[0m\u001b[0mclosure_args\u001b[0m\u001b[1;33m,\u001b[0m \u001b[1;33m**\u001b[0m\u001b[0mclosure_kwargs\u001b[0m\u001b[1;33m\u001b[0m\u001b[1;33m\u001b[0m\u001b[0m\n\u001b[0m\u001b[0;32m    224\u001b[0m             )  # type: ignore\n\u001b[0;32m    225\u001b[0m \u001b[1;33m\u001b[0m\u001b[0m\n",
      "\u001b[1;32m~\\Documents\\daniel\\universidad\\9no_semestre\\practica_investigativa\\cooper\\cooper\\lagrangian_formulation.py\u001b[0m in \u001b[0;36mcomposite_objective\u001b[1;34m(self, closure, write_state, *closure_args, **closure_kwargs)\u001b[0m\n\u001b[0;32m    230\u001b[0m         \"\"\"\n\u001b[0;32m    231\u001b[0m \u001b[1;33m\u001b[0m\u001b[0m\n\u001b[1;32m--> 232\u001b[1;33m         \u001b[0mcmp_state\u001b[0m \u001b[1;33m=\u001b[0m \u001b[0mclosure\u001b[0m\u001b[1;33m(\u001b[0m\u001b[1;33m*\u001b[0m\u001b[0mclosure_args\u001b[0m\u001b[1;33m,\u001b[0m \u001b[1;33m**\u001b[0m\u001b[0mclosure_kwargs\u001b[0m\u001b[1;33m)\u001b[0m\u001b[1;33m\u001b[0m\u001b[1;33m\u001b[0m\u001b[0m\n\u001b[0m\u001b[0;32m    233\u001b[0m         \u001b[1;32mif\u001b[0m \u001b[0mwrite_state\u001b[0m\u001b[1;33m:\u001b[0m\u001b[1;33m\u001b[0m\u001b[1;33m\u001b[0m\u001b[0m\n\u001b[0;32m    234\u001b[0m             \u001b[0mself\u001b[0m\u001b[1;33m.\u001b[0m\u001b[0mcmp\u001b[0m\u001b[1;33m.\u001b[0m\u001b[0mstate\u001b[0m \u001b[1;33m=\u001b[0m \u001b[0mcmp_state\u001b[0m\u001b[1;33m\u001b[0m\u001b[1;33m\u001b[0m\u001b[0m\n",
      "\u001b[1;32m~\\AppData\\Local\\Temp\\ipykernel_23272\\1358456078.py\u001b[0m in \u001b[0;36mclosure\u001b[1;34m(self, probs)\u001b[0m\n\u001b[0;32m      6\u001b[0m     \u001b[1;32mdef\u001b[0m \u001b[0mclosure\u001b[0m\u001b[1;33m(\u001b[0m\u001b[0mself\u001b[0m\u001b[1;33m,\u001b[0m \u001b[0mprobs\u001b[0m\u001b[1;33m)\u001b[0m\u001b[1;33m:\u001b[0m\u001b[1;33m\u001b[0m\u001b[1;33m\u001b[0m\u001b[0m\n\u001b[0;32m      7\u001b[0m         \u001b[1;31m# Verify domain of definition of the functions\u001b[0m\u001b[1;33m\u001b[0m\u001b[1;33m\u001b[0m\u001b[1;33m\u001b[0m\u001b[0m\n\u001b[1;32m----> 8\u001b[1;33m         \u001b[1;32massert\u001b[0m \u001b[0mtorch\u001b[0m\u001b[1;33m.\u001b[0m\u001b[0mall\u001b[0m\u001b[1;33m(\u001b[0m\u001b[0mprobs\u001b[0m \u001b[1;33m>=\u001b[0m \u001b[1;36m0\u001b[0m\u001b[1;33m)\u001b[0m\u001b[1;33m\u001b[0m\u001b[1;33m\u001b[0m\u001b[0m\n\u001b[0m\u001b[0;32m      9\u001b[0m \u001b[1;33m\u001b[0m\u001b[0m\n\u001b[0;32m     10\u001b[0m         \u001b[1;31m# Negative signed removed since we want to *maximize* the entropy\u001b[0m\u001b[1;33m\u001b[0m\u001b[1;33m\u001b[0m\u001b[1;33m\u001b[0m\u001b[0m\n",
      "\u001b[1;31mAssertionError\u001b[0m: "
     ]
    }
   ],
   "source": [
    "state_history = cooper.StateLogger(save_metrics=[\"loss\", \"eq_defect\", \"eq_multipliers\"])\n",
    "\n",
    "for iter_num in range(5000):\n",
    "\n",
    "    coop.zero_grad()\n",
    "    lagrangian = formulation.composite_objective(cmp.closure, probs)\n",
    "    formulation.custom_backward(lagrangian)\n",
    "    coop.step(cmp.closure, probs)\n",
    "\n",
    "    # Store optimization metrics at each step\n",
    "    partial_dict = {\"params\": copy.deepcopy(probs.data)}\n",
    "    state_history.store_metrics(formulation, iter_num, partial_dict)\n",
    "\n",
    "print(cmp.state)"
   ]
  },
  {
   "cell_type": "code",
   "execution_count": 5,
   "metadata": {},
   "outputs": [
    {
     "data": {
      "text/plain": [
       "tensor(1.6136)"
      ]
     },
     "execution_count": 5,
     "metadata": {},
     "output_type": "execute_result"
    }
   ],
   "source": [
    "# True solution for mean=4.5\n",
    "a = torch.tensor([0.05435, 0.07877, 0.1142, 0.1654, 0.2398, 0.3475])\n",
    "-torch.sum(a * torch.log(a))"
   ]
  },
  {
   "cell_type": "code",
   "execution_count": 67,
   "metadata": {},
   "outputs": [
    {
     "data": {
      "image/png": "[encoded data removed]",
      "text/plain": [
       "<Figure size 1080x216 with 3 Axes>"
      ]
     },
     "metadata": {
      "needs_background": "light"
     },
     "output_type": "display_data"
    }
   ],
   "source": [
    "all_metrics = state_history.unpack_stored_metrics()\n",
    "\n",
    "fig, (ax0, ax1, ax2) = plt.subplots(nrows=1, ncols=3, sharex=True, figsize=(15, 3))\n",
    "\n",
    "ax0.plot(all_metrics[\"iters\"], np.stack(all_metrics[\"eq_multipliers\"]))\n",
    "ax0.set_title(\"Multipliers\")\n",
    "\n",
    "ax1.plot(all_metrics[\"iters\"], np.stack(all_metrics[\"eq_defect\"]), alpha=0.6)\n",
    "ax1.axhline(0.0, c=\"gray\", alpha=0.2)\n",
    "ax1.set_title(\"Defects\")\n",
    "\n",
    "ax2.plot(all_metrics[\"iters\"], all_metrics[\"loss\"])\n",
    "ax2.set_title(\"Objective\")\n",
    "\n",
    "[_.semilogx() for _ in (ax0, ax1, ax2)]\n",
    "plt.show()"
   ]
  },
  {
   "cell_type": "code",
   "execution_count": 69,
   "metadata": {},
   "outputs": [
    {
     "data": {
      "text/plain": [
       "array([[0.03948557, 0.12165849],\n",
       "       [0.09401882, 0.28668755],\n",
       "       [0.14696962, 0.437074  ],\n",
       "       [0.1863489 , 0.5279725 ]], dtype=float32)"
      ]
     },
     "execution_count": 69,
     "metadata": {},
     "output_type": "execute_result"
    }
   ],
   "source": [
    "np.stack(all_metrics['eq_multipliers'])"
   ]
  },
  {
   "cell_type": "code",
   "execution_count": null,
   "metadata": {},
   "outputs": [],
   "source": []
  }
 ],
 "metadata": {
  "kernelspec": {
   "display_name": "Python 3.7.13 ('cooper_toy')",
   "language": "python",
   "name": "python3"
  },
  "language_info": {
   "codemirror_mode": {
    "name": "ipython",
    "version": 3
   },
   "file_extension": ".py",
   "mimetype": "text/x-python",
   "name": "python",
   "nbconvert_exporter": "python",
   "pygments_lexer": "ipython3",
   "version": "3.7.13"
  },
  "orig_nbformat": 4,
  "vscode": {
   "interpreter": {
    "hash": "aeb4812ab59855f52a3e65886350d5e7a32614426eb446ce24e1bf64cb4acb6d"
   }
  }
 },
 "nbformat": 4,
 "nbformat_minor": 2
}
