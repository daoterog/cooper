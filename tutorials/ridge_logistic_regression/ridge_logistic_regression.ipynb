{
 "cells": [
  {
   "cell_type": "markdown",
   "metadata": {},
   "source": [
    "### Logistic Regression with L2 Regulatization\n",
    "\n",
    "We know that the Logistic Regression can be regarded as a no-hidden-layer neural network with sigmoid a sigmoid activation function in it's output. In simple terms, it can be explained as applying a transformation to the output of a linear regression.\n",
    "\n",
    "Mathematically, this the following:\n",
    "\n",
    "$$\n",
    "\\begin{align}\n",
    "\\hat{y} = \\sigma(XW + b) \\\\\n",
    "\\sigma(Z) = \\frac{1}{1 + e^{-Z}}\n",
    "\\end{align}\n",
    "$$\n",
    "\n",
    "Where $X \\in \\mathbb{R}^{n \\times p}$ is the feature matrix, $y \\in \\mathbb{R}^{n \\times 1}$ is the target vector, $W \\in \\mathbb{R}^{p \\times 1}$ is the weights vector, and $b \\in \\mathbb{R}^{n \\times 1}$ is the bias vector. $Z$ stands for the output of the linear regression and thus, it has the output dimensions of it, $Z \\in \\mathbb{R}^{n \\times 1}$ in this case.\n",
    "\n",
    "Now, we will consider the regular Logistic Regression loss function (binary cross-entropy) for the optimization problem, however, we are going to add a constraint that bounds the $L_2$ norm of the weight vector to be less or equal than certain scalar k. Formally, this is as it follows:\n",
    "\n",
    "$$\n",
    "\\begin{align*}\n",
    "\\underset{W, b}{min} \\quad - \\sum^{n}_{i=1} y_i\\log{(\\hat{y})} + (1 - y_i)\\log{(1 - \\hat{y})} \\\\\n",
    "s.t. \\quad W^TW \\leq k\n",
    "\\end{align*}\n",
    "$$\n",
    "\n",
    "Then, the Lagrangian formulation of the problem will be the following:\n",
    "\n",
    "$$\n",
    "\\underset{W, b}{min}\\, \\underset{\\lambda \\geq 0}{max} \\quad L(W, b, \\lambda) = BCE(y, \\hat{y}) + \\lambda(W^tW - k)\n",
    "$$\n",
    "\n",
    "Where we exchanged the commonly used $L$ notation for the loss in order to maintain our function notation clean."
   ]
  },
  {
   "cell_type": "markdown",
   "metadata": {},
   "source": [
    "### Imports"
   ]
  },
  {
   "cell_type": "code",
   "execution_count": 18,
   "metadata": {},
   "outputs": [
    {
     "data": {
      "text/plain": [
       "True"
      ]
     },
     "execution_count": 18,
     "metadata": {},
     "output_type": "execute_result"
    }
   ],
   "source": [
    "import random\n",
    "\n",
    "import wandb\n",
    "import torch\n",
    "import numpy as np\n",
    "\n",
    "from pipeline import load_breast_cancer_data, split_data, set_optimizers, train_model, evaluate_model\n",
    "from plotting import plot_constrained_state_history, plot_unconstrained_state_history\n",
    "from models import LogisticRegression, NormConstrainedLogisticRegression\n",
    "\n",
    "from torch.utils.data import DataLoader\n",
    "\n",
    "# Ensure Reproducibility\n",
    "random.seed(777)\n",
    "np.random.seed(777)\n",
    "torch.manual_seed(777)\n",
    "torch.backends.cudnn.deterministic = True\n",
    "\n",
    "# Wandb Login\n",
    "wandb.login()"
   ]
  },
  {
   "cell_type": "markdown",
   "metadata": {},
   "source": [
    "### Model and Optimization Problem"
   ]
  },
  {
   "cell_type": "code",
   "execution_count": 9,
   "metadata": {},
   "outputs": [
    {
     "name": "stdout",
     "output_type": "stream",
     "text": [
      "Number of observations: 569\n",
      "Number of features: 30\n",
      "Nuumber of training samples: 342\n",
      "Number of validation samples: 114\n",
      "Number of testing samples: 113\n"
     ]
    }
   ],
   "source": [
    "dataset = load_breast_cancer_data()\n",
    "\n",
    "print(f'Number of observations: {len(dataset)}')\n",
    "print(f'Number of features: {dataset[0][0].shape[0]}')\n",
    "\n",
    "train_data, val_data, test_data = split_data(dataset, 0.6)\n",
    "\n",
    "print(f'Nuumber of training samples: {len(train_data)}')\n",
    "print(f'Number of validation samples: {len(val_data)}')\n",
    "print(f'Number of testing samples: {len(test_data)}')"
   ]
  },
  {
   "cell_type": "code",
   "execution_count": 10,
   "metadata": {},
   "outputs": [],
   "source": [
    "BATCH_SIZE = 32\n",
    "N_ITERS = 1000"
   ]
  },
  {
   "cell_type": "code",
   "execution_count": 12,
   "metadata": {},
   "outputs": [],
   "source": [
    "train_loader = DataLoader(train_data, batch_size=BATCH_SIZE, shuffle=True)\n",
    "val_loader = DataLoader(val_data, batch_size=BATCH_SIZE, shuffle=True)\n",
    "test_loader = DataLoader(test_data, batch_size=BATCH_SIZE, shuffle=True)"
   ]
  },
  {
   "cell_type": "markdown",
   "metadata": {},
   "source": [
    "### Instance models"
   ]
  },
  {
   "cell_type": "code",
   "execution_count": 14,
   "metadata": {},
   "outputs": [],
   "source": [
    "model = LogisticRegression(dataset[0][0].shape[0], 1)\n",
    "cmp = NormConstrainedLogisticRegression()"
   ]
  },
  {
   "cell_type": "code",
   "execution_count": 16,
   "metadata": {},
   "outputs": [],
   "source": [
    "primal_lr = 1e-3\n",
    "dual_lr = 5e-3\n",
    "\n",
    "formulation, coop = set_optimizers(cmp, model.parameters(), primal_lr, dual_lr)"
   ]
  },
  {
   "cell_type": "code",
   "execution_count": 17,
   "metadata": {},
   "outputs": [],
   "source": [
    "num_epochs = int(N_ITERS / (len(train_data) / BATCH_SIZE))"
   ]
  },
  {
   "cell_type": "markdown",
   "metadata": {},
   "source": [
    "### Unconstrained Model"
   ]
  },
  {
   "cell_type": "code",
   "execution_count": 19,
   "metadata": {},
   "outputs": [
    {
     "data": {
      "image/png": "[encoded data removed]",
      "text/plain": [
       "<Figure size 360x216 with 1 Axes>"
      ]
     },
     "metadata": {
      "needs_background": "light"
     },
     "output_type": "display_data"
    },
    {
     "name": "stdout",
     "output_type": "stream",
     "text": [
      "Train accuracy: 35.08771929824562\n",
      "Validation accuracy: 39.473684210526315\n",
      "Test accuracy: 41.5929203539823\n"
     ]
    }
   ],
   "source": [
    "# Train unconstrained model\n",
    "is_constrained = False\n",
    "optimizer = torch.optim.SGD(model.parameters(), lr=primal_lr)\n",
    "criterion = torch.nn.BCELoss()\n",
    "\n",
    "unc_model = LogisticRegression(dataset[0][0].shape[0], 1)\n",
    "\n",
    "unc_model, unc_state_history = train_model(unc_model,\n",
    "                                        is_constrained,\n",
    "                                        train_loader,\n",
    "                                        optimizer,\n",
    "                                        num_epochs,\n",
    "                                        criterion=criterion,\n",
    "                                        use_wandb=False)\n",
    "\n",
    "plot_unconstrained_state_history(unc_state_history)\n",
    "\n",
    "unc_train_accuracy = evaluate_model(unc_model, train_loader, 'train', use_wandb=False)\n",
    "unc_val_accuracy = evaluate_model(unc_model, val_loader, 'val', use_wandb=False)\n",
    "unc_test_accuracy = evaluate_model(unc_model, test_loader, 'test', use_wandb=False)\n",
    "\n",
    "print(f'Train accuracy: {unc_train_accuracy}')\n",
    "print(f'Validation accuracy: {unc_val_accuracy}')\n",
    "print(f'Test accuracy: {unc_test_accuracy}')"
   ]
  },
  {
   "cell_type": "markdown",
   "metadata": {},
   "source": [
    "### Constrained Model"
   ]
  },
  {
   "cell_type": "code",
   "execution_count": 20,
   "metadata": {},
   "outputs": [
    {
     "data": {
      "image/png": "[encoded data removed]",
      "text/plain": [
       "<Figure size 1080x216 with 3 Axes>"
      ]
     },
     "metadata": {
      "needs_background": "light"
     },
     "output_type": "display_data"
    },
    {
     "name": "stdout",
     "output_type": "stream",
     "text": [
      "Train accuracy: 64.91228070175438\n",
      "Validation accuracy: 60.526315789473685\n",
      "Test accuracy: 58.4070796460177\n"
     ]
    }
   ],
   "source": [
    "# Train unconstrained model\n",
    "is_constrained = True\n",
    "optimizer = coop\n",
    "k = 10\n",
    "\n",
    "model, const_state_history = train_model(model,\n",
    "                                        is_constrained,\n",
    "                                        train_loader,\n",
    "                                        optimizer,\n",
    "                                        num_epochs,\n",
    "                                        cmp=cmp,\n",
    "                                        formulation=formulation,\n",
    "                                        k=k,\n",
    "                                        use_wandb=False)\n",
    "\n",
    "plot_constrained_state_history(const_state_history)\n",
    "\n",
    "const_train_accuracy = evaluate_model(model, train_loader, 'train', use_wandb=False)\n",
    "const_val_accuracy = evaluate_model(model, val_loader, 'val', use_wandb=False)\n",
    "const_test_accuracy = evaluate_model(model, test_loader, 'test', use_wandb=False)\n",
    "\n",
    "print(f'Train accuracy: {const_train_accuracy}')\n",
    "print(f'Validation accuracy: {const_val_accuracy}')\n",
    "print(f'Test accuracy: {const_test_accuracy}')"
   ]
  },
  {
   "cell_type": "code",
   "execution_count": null,
   "metadata": {},
   "outputs": [],
   "source": []
  }
 ],
 "metadata": {
  "kernelspec": {
   "display_name": "Python 3.7.13 ('cooper_toy')",
   "language": "python",
   "name": "python3"
  },
  "language_info": {
   "codemirror_mode": {
    "name": "ipython",
    "version": 3
   },
   "file_extension": ".py",
   "mimetype": "text/x-python",
   "name": "python",
   "nbconvert_exporter": "python",
   "pygments_lexer": "ipython3",
   "version": "3.7.13"
  },
  "orig_nbformat": 4,
  "vscode": {
   "interpreter": {
    "hash": "aeb4812ab59855f52a3e65886350d5e7a32614426eb446ce24e1bf64cb4acb6d"
   }
  }
 },
 "nbformat": 4,
 "nbformat_minor": 2
}
