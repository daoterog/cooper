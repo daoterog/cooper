{
 "cells": [
  {
   "cell_type": "markdown",
   "metadata": {},
   "source": [
    "### Logistic Regression with L2 Regulatization\n",
    "\n",
    "We know that the Logistic Regression can be regarded as a no-hidden-layer neural network with sigmoid a sigmoid activation function in it's output. In simple terms, it can be explained as applying a transformation to the output of a linear regression.\n",
    "\n",
    "Mathematically, this the following:\n",
    "\n",
    "$$\n",
    "\\begin{align}\n",
    "\\hat{y} = \\sigma(XW + b) \\\\\n",
    "\\sigma(Z) = \\frac{1}{1 + e^{-Z}}\n",
    "\\end{align}\n",
    "$$\n",
    "\n",
    "Where $X \\in \\mathbb{R}^{n \\times p}$ is the feature matrix, $y \\in \\mathbb{R}^{n \\times 1}$ is the target vector, $W \\in \\mathbb{R}^{p \\times 1}$ is the weights vector, and $b \\in \\mathbb{R}^{n \\times 1}$ is the bias vector. $Z$ stands for the output of the linear regression and thus, it has the output dimensions of it, $Z \\in \\mathbb{R}^{n \\times 1}$ in this case.\n",
    "\n",
    "Now, we will consider the regular Logistic Regression loss function (binary cross-entropy) for the optimization problem, however, we are going to add a constraint that bounds the $L_2$ norm of the weight vector to be less or equal than certain scalar k. Formally, this is as it follows:\n",
    "\n",
    "$$\n",
    "\\begin{align*}\n",
    "\\underset{W, b}{min} \\quad - \\sum^{n}_{i=1} y_i\\log{(\\hat{y})} + (1 - y_i)\\log{(1 - \\hat{y})} \\\\\n",
    "s.t. \\quad W^TW \\leq k\n",
    "\\end{align*}\n",
    "$$\n",
    "\n",
    "Then, the Lagrangian formulation of the problem will be the following:\n",
    "\n",
    "$$\n",
    "\\underset{W, b}{min}\\, \\underset{\\lambda \\geq 0}{max} \\quad L(W, b, \\lambda) = BCE(y, \\hat{y}) + \\lambda(W^tW - k)\n",
    "$$\n",
    "\n",
    "Where we exchanged the commonly used $L$ notation for the loss in order to maintain our function notation clean."
   ]
  },
  {
   "cell_type": "markdown",
   "metadata": {},
   "source": [
    "### Imports"
   ]
  },
  {
   "cell_type": "code",
   "execution_count": 5,
   "metadata": {},
   "outputs": [
    {
     "name": "stdout",
     "output_type": "stream",
     "text": [
      "The autoreload extension is already loaded. To reload it, use:\n",
      "  %reload_ext autoreload\n"
     ]
    },
    {
     "data": {
      "text/plain": [
       "True"
      ]
     },
     "execution_count": 5,
     "metadata": {},
     "output_type": "execute_result"
    }
   ],
   "source": [
    "%load_ext autoreload\n",
    "%autoreload 2\n",
    "\n",
    "import random\n",
    "import os\n",
    "\n",
    "import wandb\n",
    "import torch\n",
    "import numpy as np\n",
    "\n",
    "from pipeline import load_breast_cancer_data, split_data, set_optimizers, train_model, evaluate_model\n",
    "from plotting import plot_constrained_state_history, plot_unconstrained_state_history\n",
    "from models import LogisticRegression, NormConstrainedLogisticRegression\n",
    "\n",
    "from torchvision.datasets import MNIST\n",
    "from torch.utils.data import DataLoader, random_split\n",
    "from torchvision import transforms\n",
    "\n",
    "# Ensure Reproducibility\n",
    "random.seed(777)\n",
    "np.random.seed(777)\n",
    "torch.manual_seed(777)\n",
    "torch.backends.cudnn.deterministic = True\n",
    "\n",
    "# Wandb Login\n",
    "wandb.login()"
   ]
  },
  {
   "cell_type": "code",
   "execution_count": 12,
   "metadata": {},
   "outputs": [],
   "source": [
    "BATCH_SIZE = 64\n",
    "N_ITERS = 20000"
   ]
  },
  {
   "cell_type": "markdown",
   "metadata": {},
   "source": [
    "### Model and Optimization Problem"
   ]
  },
  {
   "cell_type": "code",
   "execution_count": 13,
   "metadata": {},
   "outputs": [],
   "source": [
    "dataset = MNIST(os.getcwd() + \"/data\", download=True, transform=transforms.ToTensor())\n",
    "train_data, val_data, test_data = split_data(dataset, 0.6)\n",
    "\n",
    "train_loader = DataLoader(train_data, batch_size=BATCH_SIZE, shuffle=True)\n",
    "val_loader = DataLoader(val_data, batch_size=BATCH_SIZE, shuffle=True)\n",
    "test_loader = DataLoader(test_data, batch_size=BATCH_SIZE, shuffle=True)\n",
    "\n",
    "num_epochs = int(N_ITERS / (len(train_data) / BATCH_SIZE))"
   ]
  },
  {
   "cell_type": "markdown",
   "metadata": {},
   "source": [
    "### Unconstrained Model"
   ]
  },
  {
   "cell_type": "code",
   "execution_count": 14,
   "metadata": {},
   "outputs": [
    {
     "data": {
      "image/png": "[encoded data removed]",
      "text/plain": [
       "<Figure size 360x216 with 1 Axes>"
      ]
     },
     "metadata": {
      "needs_background": "light"
     },
     "output_type": "display_data"
    },
    {
     "name": "stdout",
     "output_type": "stream",
     "text": [
      "Train accuracy: 87.675\n",
      "Validation accuracy: 87.75833333333334\n",
      "Test accuracy: 87.64166666666667\n"
     ]
    }
   ],
   "source": [
    "# Train unconstrained model\n",
    "is_constrained = False\n",
    "primal_lr = 1e-3\n",
    "unc_model = LogisticRegression(784, 10)\n",
    "optimizer = torch.optim.SGD(unc_model.parameters(), lr=primal_lr)\n",
    "criterion = torch.nn.CrossEntropyLoss()\n",
    "\n",
    "unc_model, unc_state_history = train_model(unc_model,\n",
    "                                        is_constrained,\n",
    "                                        train_loader,\n",
    "                                        optimizer,\n",
    "                                        num_epochs,\n",
    "                                        criterion=criterion,\n",
    "                                        use_wandb=False)\n",
    "\n",
    "plot_unconstrained_state_history(unc_state_history)\n",
    "\n",
    "unc_train_accuracy = evaluate_model(unc_model, train_loader, 'train', use_wandb=False)\n",
    "unc_val_accuracy = evaluate_model(unc_model, val_loader, 'val', use_wandb=False)\n",
    "unc_test_accuracy = evaluate_model(unc_model, test_loader, 'test', use_wandb=False)\n",
    "\n",
    "print(f'Train accuracy: {unc_train_accuracy}')\n",
    "print(f'Validation accuracy: {unc_val_accuracy}')\n",
    "print(f'Test accuracy: {unc_test_accuracy}')"
   ]
  },
  {
   "cell_type": "markdown",
   "metadata": {},
   "source": [
    "### Constrained Model"
   ]
  },
  {
   "cell_type": "code",
   "execution_count": 15,
   "metadata": {},
   "outputs": [
    {
     "data": {
      "image/png": "[encoded data removed]",
      "text/plain": [
       "<Figure size 1080x216 with 3 Axes>"
      ]
     },
     "metadata": {
      "needs_background": "light"
     },
     "output_type": "display_data"
    },
    {
     "name": "stdout",
     "output_type": "stream",
     "text": [
      "Train accuracy: 87.55277777777778\n",
      "Validation accuracy: 87.425\n",
      "Test accuracy: 87.63333333333334\n"
     ]
    }
   ],
   "source": [
    "# Train unconstrained model\n",
    "is_constrained = True\n",
    "con_model = LogisticRegression(784, 10)\n",
    "cmp = NormConstrainedLogisticRegression()\n",
    "primal_lr = 1e-3\n",
    "dual_lr = 5e-3\n",
    "formulation, optimizer = set_optimizers(cmp, con_model.parameters(), primal_lr, dual_lr)\n",
    "k = 10\n",
    "\n",
    "con_model, const_state_history = train_model(con_model,\n",
    "                                        is_constrained,\n",
    "                                        train_loader,\n",
    "                                        optimizer,\n",
    "                                        num_epochs,\n",
    "                                        cmp=cmp,\n",
    "                                        formulation=formulation,\n",
    "                                        k=k,\n",
    "                                        use_wandb=False)\n",
    "\n",
    "plot_constrained_state_history(const_state_history)\n",
    "\n",
    "const_train_accuracy = evaluate_model(con_model, train_loader, 'train', use_wandb=False)\n",
    "const_val_accuracy = evaluate_model(con_model, val_loader, 'val', use_wandb=False)\n",
    "const_test_accuracy = evaluate_model(con_model, test_loader, 'test', use_wandb=False)\n",
    "\n",
    "print(f'Train accuracy: {const_train_accuracy}')\n",
    "print(f'Validation accuracy: {const_val_accuracy}')\n",
    "print(f'Test accuracy: {const_test_accuracy}')"
   ]
  },
  {
   "cell_type": "markdown",
   "metadata": {},
   "source": [
    "### Other Problem"
   ]
  },
  {
   "cell_type": "code",
   "execution_count": null,
   "metadata": {},
   "outputs": [],
   "source": [
    "dataset = load_breast_cancer_data()\n",
    "\n",
    "print(f'Number of observations: {len(dataset)}')\n",
    "print(f'Number of features: {dataset[0][0].shape[0]}')\n",
    "\n",
    "train_data, val_data, test_data = split_data(dataset, 0.6)\n",
    "\n",
    "print(f'Nuumber of training samples: {len(train_data)}')\n",
    "print(f'Number of validation samples: {len(val_data)}')\n",
    "print(f'Number of testing samples: {len(test_data)}')\n",
    "\n",
    "train_loader = DataLoader(train_data, batch_size=BATCH_SIZE, shuffle=True)\n",
    "val_loader = DataLoader(val_data, batch_size=BATCH_SIZE, shuffle=True)\n",
    "test_loader = DataLoader(test_data, batch_size=BATCH_SIZE, shuffle=True)"
   ]
  },
  {
   "cell_type": "code",
   "execution_count": null,
   "metadata": {},
   "outputs": [],
   "source": []
  }
 ],
 "metadata": {
  "kernelspec": {
   "display_name": "Python 3.7.13 ('cooper_toy')",
   "language": "python",
   "name": "python3"
  },
  "language_info": {
   "codemirror_mode": {
    "name": "ipython",
    "version": 3
   },
   "file_extension": ".py",
   "mimetype": "text/x-python",
   "name": "python",
   "nbconvert_exporter": "python",
   "pygments_lexer": "ipython3",
   "version": "3.7.13"
  },
  "orig_nbformat": 4,
  "vscode": {
   "interpreter": {
    "hash": "aeb4812ab59855f52a3e65886350d5e7a32614426eb446ce24e1bf64cb4acb6d"
   }
  }
 },
 "nbformat": 4,
 "nbformat_minor": 2
}
